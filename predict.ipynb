{
 "cells": [
  {
   "cell_type": "code",
   "execution_count": 1,
   "metadata": {},
   "outputs": [
    {
     "name": "stdout",
     "output_type": "stream",
     "text": [
      "Model: \"sequential\"\n",
      "_________________________________________________________________\n",
      " Layer (type)                Output Shape              Param #   \n",
      "=================================================================\n",
      " dense (Dense)               (None, 1024)              103424    \n",
      "                                                                 \n",
      " dense_1 (Dense)             (None, 1024)              1049600   \n",
      "                                                                 \n",
      " dense_2 (Dense)             (None, 128)               131200    \n",
      "                                                                 \n",
      " dense_3 (Dense)             (None, 1)                 129       \n",
      "                                                                 \n",
      "=================================================================\n",
      "Total params: 1,284,353\n",
      "Trainable params: 1,284,353\n",
      "Non-trainable params: 0\n",
      "_________________________________________________________________\n"
     ]
    }
   ],
   "source": [
    "from tensorflow.keras import models\n",
    "\n",
    "model = models.load_model(\"dnn\")\n",
    "model.summary()"
   ]
  },
  {
   "cell_type": "code",
   "execution_count": 2,
   "metadata": {},
   "outputs": [],
   "source": [
    "from gensim.models import Word2Vec\n",
    "import pandas as pd\n",
    "import numpy as np\n",
    "\n",
    "def word2vec(ar, model):\n",
    "    para_avg_vec = []\n",
    "    # print(\"training finished\")\n",
    "    # 对每一段\n",
    "    for para in ar:\n",
    "        sum_vec = np.zeros(100)\n",
    "        # 对每一段中每一个词\n",
    "        for word in para:\n",
    "            try:\n",
    "                # 试着从模型中取得word vector\n",
    "                sum_vec += model.wv[word]\n",
    "            except(KeyError):\n",
    "                # 如果有未记录的特殊符号，就跳过\n",
    "                continue\n",
    "        # 对词向量求平均得到句子的向量表示\n",
    "        para_avg_vec.append(sum_vec / len(para))\n",
    "    return para_avg_vec\n",
    "\n",
    "df = pd.read_csv(\"merge.csv\", encoding=\"gbk\")\n",
    "word_2_vec_model = Word2Vec.load('w2v_model')\n",
    "vec = word2vec(np.array(df[\"文章详情\"]), word_2_vec_model)"
   ]
  },
  {
   "cell_type": "code",
   "execution_count": 3,
   "metadata": {},
   "outputs": [
    {
     "data": {
      "text/plain": [
       "array([ 0.12322522, -0.13826187, -0.30714408,  0.55668855, -0.13554483,\n",
       "        0.32464452,  0.30069211, -0.2362495 ,  0.40808932, -0.18614346,\n",
       "        0.9166102 ,  0.41914576,  0.07479357,  0.18455635,  0.0395265 ,\n",
       "        0.0678133 ,  0.49454343,  0.07893525,  0.09481257, -0.18241158,\n",
       "        0.07199739, -0.60896909,  0.42558284,  0.25320531, -0.23331592,\n",
       "        0.02720025,  0.01585316,  0.2078829 , -0.11519456,  0.03947824,\n",
       "       -0.06173475, -0.48109466,  0.38364394, -0.13045178, -0.00929339,\n",
       "       -0.33216176, -0.09494101,  0.14784834, -0.1970002 ,  0.72413582,\n",
       "        0.26803732, -0.43361117, -0.11953155,  0.32596177, -0.17277969,\n",
       "       -0.2841571 ,  0.27736774, -0.12358161,  0.14261866,  0.13780758,\n",
       "        0.07720982,  0.06441273, -0.20677226,  0.59332892, -0.32011405,\n",
       "        0.11124099, -0.02018568, -0.36246632,  0.18939965, -0.1713358 ,\n",
       "        0.07171642, -0.56724752,  0.361508  ,  0.35523676, -0.03063113,\n",
       "        0.09638654, -0.01438554,  0.23810508,  0.04425549,  0.10174068,\n",
       "       -0.30703149,  0.02683375,  0.11673843,  0.04679995,  0.1948644 ,\n",
       "       -0.36379256, -0.21255314,  0.35254064, -0.33339006, -0.06380604,\n",
       "       -0.18097623,  0.00658253, -0.05978079, -0.19892833, -0.53999409,\n",
       "       -0.28701815, -0.05298385, -0.48276451,  0.09144706,  0.16381682,\n",
       "        0.18550926, -0.09767054, -0.5348209 ,  0.1653911 , -0.41634356,\n",
       "       -0.15723931, -0.14561377,  0.27187675, -0.37647133, -0.03141477])"
      ]
     },
     "execution_count": 3,
     "metadata": {},
     "output_type": "execute_result"
    }
   ],
   "source": [
    "vec[-1]"
   ]
  },
  {
   "cell_type": "code",
   "execution_count": 5,
   "metadata": {},
   "outputs": [
    {
     "name": "stdout",
     "output_type": "stream",
     "text": [
      "18473/18473 [==============================] - 59s 3ms/step\n"
     ]
    }
   ],
   "source": [
    "import tensorflow as tf\n",
    "\n",
    "x = tf.convert_to_tensor(vec)\n",
    "df[\"predict\"] = model.predict(x)"
   ]
  },
  {
   "cell_type": "code",
   "execution_count": 6,
   "metadata": {},
   "outputs": [
    {
     "name": "stderr",
     "output_type": "stream",
     "text": [
      "E:\\Anaconda3.5\\lib\\site-packages\\ipykernel_launcher.py:11: SettingWithCopyWarning: \n",
      "A value is trying to be set on a copy of a slice from a DataFrame\n",
      "\n",
      "See the caveats in the documentation: https://pandas.pydata.org/pandas-docs/stable/user_guide/indexing.html#returning-a-view-versus-a-copy\n",
      "  # This is added back by InteractiveShellApp.init_path()\n",
      "E:\\Anaconda3.5\\lib\\site-packages\\ipykernel_launcher.py:9: SettingWithCopyWarning: \n",
      "A value is trying to be set on a copy of a slice from a DataFrame\n",
      "\n",
      "See the caveats in the documentation: https://pandas.pydata.org/pandas-docs/stable/user_guide/indexing.html#returning-a-view-versus-a-copy\n",
      "  if __name__ == '__main__':\n",
      "E:\\Anaconda3.5\\lib\\site-packages\\ipykernel_launcher.py:7: SettingWithCopyWarning: \n",
      "A value is trying to be set on a copy of a slice from a DataFrame\n",
      "\n",
      "See the caveats in the documentation: https://pandas.pydata.org/pandas-docs/stable/user_guide/indexing.html#returning-a-view-versus-a-copy\n",
      "  import sys\n"
     ]
    },
    {
     "data": {
      "text/plain": [
       "0         2.0\n",
       "1         2.0\n",
       "2         2.0\n",
       "3         1.0\n",
       "4         2.0\n",
       "         ... \n",
       "591108    1.0\n",
       "591109    1.0\n",
       "591110    1.0\n",
       "591111    1.0\n",
       "591112    1.0\n",
       "Name: predict, Length: 591113, dtype: float32"
      ]
     },
     "execution_count": 6,
     "metadata": {},
     "output_type": "execute_result"
    }
   ],
   "source": [
    "def transform(pred, num=[0, 2], num_labels=3):\n",
    "    delta = num[1] - num[0]\n",
    "    d = delta / num_labels\n",
    "    for i in range(len(pred)):\n",
    "        c = 0\n",
    "        if pred[i] <= num[0] + d:\n",
    "            pred[i] = c\n",
    "        elif pred[i] <= num[0] + 2*d:\n",
    "            pred[i] = c + 1\n",
    "        else:\n",
    "            pred[i] = c + 2\n",
    "    return pred\n",
    "df[\"predict\"] = transform(df[\"predict\"])\n",
    "df[\"predict\"]"
   ]
  },
  {
   "cell_type": "code",
   "execution_count": 7,
   "metadata": {},
   "outputs": [
    {
     "data": {
      "text/html": [
       "<div>\n",
       "<style scoped>\n",
       "    .dataframe tbody tr th:only-of-type {\n",
       "        vertical-align: middle;\n",
       "    }\n",
       "\n",
       "    .dataframe tbody tr th {\n",
       "        vertical-align: top;\n",
       "    }\n",
       "\n",
       "    .dataframe thead th {\n",
       "        text-align: right;\n",
       "    }\n",
       "</style>\n",
       "<table border=\"1\" class=\"dataframe\">\n",
       "  <thead>\n",
       "    <tr style=\"text-align: right;\">\n",
       "      <th></th>\n",
       "      <th></th>\n",
       "      <th>文章标题</th>\n",
       "      <th>文章详情</th>\n",
       "      <th>predict</th>\n",
       "    </tr>\n",
       "    <tr>\n",
       "      <th>时间</th>\n",
       "      <th>股票代码</th>\n",
       "      <th></th>\n",
       "      <th></th>\n",
       "      <th></th>\n",
       "    </tr>\n",
       "  </thead>\n",
       "  <tbody>\n",
       "    <tr>\n",
       "      <th rowspan=\"2\" valign=\"top\">2022/3/17</th>\n",
       "      <th>000001.SZ</th>\n",
       "      <td>归母营运利润稳健增长6.1% 十大亮点看懂平安2021年业绩</td>\n",
       "      <td>3月17日，中国平安公布2021年度业绩。\\n 　　过去 一年，面对复杂严峻的外部环境与...</td>\n",
       "      <td>2.0</td>\n",
       "    </tr>\n",
       "    <tr>\n",
       "      <th>000001.SZ</th>\n",
       "      <td>平安银行：2021年经营业绩大幅增长 资产质量创六年最优</td>\n",
       "      <td>20220314 【金融机构财报解读】平安银行：2021年经营业绩大幅增长，资产质量创六...</td>\n",
       "      <td>2.0</td>\n",
       "    </tr>\n",
       "    <tr>\n",
       "      <th rowspan=\"2\" valign=\"top\">2022/3/16</th>\n",
       "      <th>000001.SZ</th>\n",
       "      <td>归母利润同比增25.6% 平安银行董事长谢永林详解经营之道</td>\n",
       "      <td>3月10日，平安银行举办了2021年度业绩发布会，业绩报告显示，2021年度，平安银行实...</td>\n",
       "      <td>2.0</td>\n",
       "    </tr>\n",
       "    <tr>\n",
       "      <th>000001.SZ</th>\n",
       "      <td>【读财报】银行理财业务消费投诉排名：邮储银行、招商银行、平安银行投诉量位居前列</td>\n",
       "      <td>编者按：　　哪些银行理财相关业务消费者投诉量大？哪些银行消费者投诉量增长快？　　中国银保...</td>\n",
       "      <td>1.0</td>\n",
       "    </tr>\n",
       "    <tr>\n",
       "      <th>2022/3/15</th>\n",
       "      <th>000001.SZ</th>\n",
       "      <td>平安银行2021年报发布——谢永林的信与行</td>\n",
       "      <td>2022年3月10日，平安银行召开2021年度业绩发布会，平安集团总经理兼联席CEO、平...</td>\n",
       "      <td>2.0</td>\n",
       "    </tr>\n",
       "    <tr>\n",
       "      <th>...</th>\n",
       "      <th>...</th>\n",
       "      <td>...</td>\n",
       "      <td>...</td>\n",
       "      <td>...</td>\n",
       "    </tr>\n",
       "    <tr>\n",
       "      <th rowspan=\"3\" valign=\"top\">2020/10/16</th>\n",
       "      <th>689009.SH</th>\n",
       "      <td>科创板首单CDR九号公司：发行价格18.94元/份</td>\n",
       "      <td>10月15日晚间，九号公司发布公告，发行人和保荐机构(主承销商)根据初步询价结果，综合考...</td>\n",
       "      <td>1.0</td>\n",
       "    </tr>\n",
       "    <tr>\n",
       "      <th>689009.SH</th>\n",
       "      <td>既不机器人也不智能 科创板CDR第一股如何走出小米困境？</td>\n",
       "      <td>科创板首家申请发行CDR(存托凭证)的企业九号有限公司(&lt;em&gt;689009&lt;/em&gt;....</td>\n",
       "      <td>1.0</td>\n",
       "    </tr>\n",
       "    <tr>\n",
       "      <th>689009.SH</th>\n",
       "      <td>九号公司敲定发行价 A股将迎首家“VIE+CDR”企业</td>\n",
       "      <td>A股首例发行CDR(中国存托凭证)的VIE架构红筹企业敲定发行价。　　10月15日晚间，...</td>\n",
       "      <td>1.0</td>\n",
       "    </tr>\n",
       "    <tr>\n",
       "      <th>2020/10/15</th>\n",
       "      <th>689009.SH</th>\n",
       "      <td>价格定了 雷军该笑了！科创板CDR第一股上市再迈一步</td>\n",
       "      <td>刚刚，九号公司CDR的发行价定了！　　10月15日晚，九号公司公告称，本次发行价格为18...</td>\n",
       "      <td>1.0</td>\n",
       "    </tr>\n",
       "    <tr>\n",
       "      <th>2020/9/25</th>\n",
       "      <th>689009.SH</th>\n",
       "      <td>九号公司获科创板IPO注册 为A股首单VIE+CDR企业</td>\n",
       "      <td>历经524天，九号公司终于等到了来自证监会的批文。9月22日，证监会披露公告，称同意九号...</td>\n",
       "      <td>1.0</td>\n",
       "    </tr>\n",
       "  </tbody>\n",
       "</table>\n",
       "<p>591113 rows × 3 columns</p>\n",
       "</div>"
      ],
      "text/plain": [
       "                                                         文章标题  \\\n",
       "时间         股票代码                                                 \n",
       "2022/3/17  000001.SZ           归母营运利润稳健增长6.1% 十大亮点看懂平安2021年业绩   \n",
       "           000001.SZ             平安银行：2021年经营业绩大幅增长 资产质量创六年最优   \n",
       "2022/3/16  000001.SZ            归母利润同比增25.6% 平安银行董事长谢永林详解经营之道   \n",
       "           000001.SZ  【读财报】银行理财业务消费投诉排名：邮储银行、招商银行、平安银行投诉量位居前列   \n",
       "2022/3/15  000001.SZ                    平安银行2021年报发布——谢永林的信与行   \n",
       "...                                                       ...   \n",
       "2020/10/16 689009.SH                科创板首单CDR九号公司：发行价格18.94元/份   \n",
       "           689009.SH             既不机器人也不智能 科创板CDR第一股如何走出小米困境？   \n",
       "           689009.SH              九号公司敲定发行价 A股将迎首家“VIE+CDR”企业   \n",
       "2020/10/15 689009.SH               价格定了 雷军该笑了！科创板CDR第一股上市再迈一步   \n",
       "2020/9/25  689009.SH             九号公司获科创板IPO注册 为A股首单VIE+CDR企业   \n",
       "\n",
       "                                                                   文章详情  \\\n",
       "时间         股票代码                                                           \n",
       "2022/3/17  000001.SZ  　　3月17日，中国平安公布2021年度业绩。\\n 　　过去 一年，面对复杂严峻的外部环境与...   \n",
       "           000001.SZ  　　20220314 【金融机构财报解读】平安银行：2021年经营业绩大幅增长，资产质量创六...   \n",
       "2022/3/16  000001.SZ  　　3月10日，平安银行举办了2021年度业绩发布会，业绩报告显示，2021年度，平安银行实...   \n",
       "           000001.SZ  　　编者按：　　哪些银行理财相关业务消费者投诉量大？哪些银行消费者投诉量增长快？　　中国银保...   \n",
       "2022/3/15  000001.SZ  　　2022年3月10日，平安银行召开2021年度业绩发布会，平安集团总经理兼联席CEO、平...   \n",
       "...                                                                 ...   \n",
       "2020/10/16 689009.SH  　　10月15日晚间，九号公司发布公告，发行人和保荐机构(主承销商)根据初步询价结果，综合考...   \n",
       "           689009.SH  　　科创板首家申请发行CDR(存托凭证)的企业九号有限公司(<em>689009</em>....   \n",
       "           689009.SH  　　A股首例发行CDR(中国存托凭证)的VIE架构红筹企业敲定发行价。　　10月15日晚间，...   \n",
       "2020/10/15 689009.SH  　　刚刚，九号公司CDR的发行价定了！　　10月15日晚，九号公司公告称，本次发行价格为18...   \n",
       "2020/9/25  689009.SH  　　历经524天，九号公司终于等到了来自证监会的批文。9月22日，证监会披露公告，称同意九号...   \n",
       "\n",
       "                      predict  \n",
       "时间         股票代码                \n",
       "2022/3/17  000001.SZ      2.0  \n",
       "           000001.SZ      2.0  \n",
       "2022/3/16  000001.SZ      2.0  \n",
       "           000001.SZ      1.0  \n",
       "2022/3/15  000001.SZ      2.0  \n",
       "...                       ...  \n",
       "2020/10/16 689009.SH      1.0  \n",
       "           689009.SH      1.0  \n",
       "           689009.SH      1.0  \n",
       "2020/10/15 689009.SH      1.0  \n",
       "2020/9/25  689009.SH      1.0  \n",
       "\n",
       "[591113 rows x 3 columns]"
      ]
     },
     "execution_count": 7,
     "metadata": {},
     "output_type": "execute_result"
    }
   ],
   "source": [
    "df.set_index([\"时间\", \"股票代码\"], inplace=True)\n",
    "df"
   ]
  },
  {
   "cell_type": "code",
   "execution_count": 8,
   "metadata": {},
   "outputs": [
    {
     "data": {
      "text/plain": [
       "count    1886.000000\n",
       "mean        1.245415\n",
       "std         0.187885\n",
       "min         0.000000\n",
       "25%         1.143918\n",
       "50%         1.246093\n",
       "75%         1.354219\n",
       "max         2.000000\n",
       "Name: predict, dtype: float64"
      ]
     },
     "execution_count": 8,
     "metadata": {},
     "output_type": "execute_result"
    }
   ],
   "source": [
    "index = df[\"predict\"].groupby(\"时间\").mean()\n",
    "index.describe()"
   ]
  },
  {
   "cell_type": "code",
   "execution_count": 9,
   "metadata": {},
   "outputs": [
    {
     "data": {
      "text/plain": [
       "<AxesSubplot:xlabel='时间'>"
      ]
     },
     "execution_count": 9,
     "metadata": {},
     "output_type": "execute_result"
    },
    {
     "name": "stderr",
     "output_type": "stream",
     "text": [
      "E:\\Anaconda3.5\\lib\\site-packages\\IPython\\core\\events.py:88: UserWarning: Glyph 26102 (\\N{CJK UNIFIED IDEOGRAPH-65F6}) missing from current font.\n",
      "  func(*args, **kwargs)\n",
      "E:\\Anaconda3.5\\lib\\site-packages\\IPython\\core\\events.py:88: UserWarning: Glyph 38388 (\\N{CJK UNIFIED IDEOGRAPH-95F4}) missing from current font.\n",
      "  func(*args, **kwargs)\n",
      "E:\\Anaconda3.5\\lib\\site-packages\\IPython\\core\\pylabtools.py:125: UserWarning: Glyph 26102 (\\N{CJK UNIFIED IDEOGRAPH-65F6}) missing from current font.\n",
      "  fig.canvas.print_figure(bytes_io, **kw)\n",
      "E:\\Anaconda3.5\\lib\\site-packages\\IPython\\core\\pylabtools.py:125: UserWarning: Glyph 38388 (\\N{CJK UNIFIED IDEOGRAPH-95F4}) missing from current font.\n",
      "  fig.canvas.print_figure(bytes_io, **kw)\n"
     ]
    },
    {
     "data": {
      "image/png": "[encoded data removed]",
      "text/plain": [
       "<Figure size 432x288 with 1 Axes>"
      ]
     },
     "metadata": {
      "needs_background": "light"
     },
     "output_type": "display_data"
    }
   ],
   "source": [
    "idx = pd.DataFrame({\"index\": index})\n",
    "idx[\"index\"].plot()"
   ]
  },
  {
   "cell_type": "code",
   "execution_count": 10,
   "metadata": {},
   "outputs": [],
   "source": [
    "df.to_csv(\"D:/Desktop/result.csv\", encoding=\"gbk\")"
   ]
  }
 ],
 "metadata": {
  "kernelspec": {
   "display_name": "Python 3",
   "language": "python",
   "name": "python3"
  },
  "language_info": {
   "codemirror_mode": {
    "name": "ipython",
    "version": 3
   },
   "file_extension": ".py",
   "mimetype": "text/x-python",
   "name": "python",
   "nbconvert_exporter": "python",
   "pygments_lexer": "ipython3",
   "version": "3.7.0"
  }
 },
 "nbformat": 4,
 "nbformat_minor": 2
}
